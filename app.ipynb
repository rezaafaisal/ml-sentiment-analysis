{
 "cells": [
  {
   "cell_type": "code",
   "execution_count": 159,
   "metadata": {},
   "outputs": [],
   "source": [
    "from sklearn.feature_extraction.text import CountVectorizer\n",
    "import joblib\n",
    "import numpy as np\n",
    "from sklearn.metrics import accuracy_score"
   ]
  },
  {
   "cell_type": "code",
   "execution_count": 86,
   "metadata": {},
   "outputs": [],
   "source": [
    "model = joblib.load('model.joblib')"
   ]
  },
  {
   "cell_type": "code",
   "execution_count": 166,
   "metadata": {},
   "outputs": [],
   "source": [
    "sentences = 'tidak berpihak (tidak ikut atau tidak membantu salah satu pihak Kepala negara harus tetap netral menghadapi pertentangan antar partai'\n",
    "\n",
    "vectorizer = CountVectorizer(lowercase=False)\n",
    "X = vectorizer.fit_transform([sentences])\n",
    "\n",
    "if X.shape[1] < model.n_features_in_:\n",
    "    # Jika jumlah fitur data prediksi lebih sedikit, tambahkan kolom dengan nilai 0\n",
    "    x_prredict = np.hstack((X.toarray(), np.zeros((X.shape[0],  model.n_features_in_ - X.shape[1]))))"
   ]
  },
  {
   "cell_type": "code",
   "execution_count": 167,
   "metadata": {},
   "outputs": [
    {
     "name": "stdout",
     "output_type": "stream",
     "text": [
      "['1']\n"
     ]
    }
   ],
   "source": [
    "predict = model.predict(x_prredict)\n",
    "print(predict)"
   ]
  },
  {
   "cell_type": "code",
   "execution_count": 169,
   "metadata": {},
   "outputs": [
    {
     "name": "stdout",
     "output_type": "stream",
     "text": [
      "[-1.53916335e+10  0.00000000e+00 -1.08646807e+10]\n"
     ]
    }
   ],
   "source": [
    "prob = model.predict_log_proba(x_prredict)\n",
    "print(prob[0])"
   ]
  },
  {
   "cell_type": "code",
   "execution_count": 170,
   "metadata": {},
   "outputs": [
    {
     "name": "stdout",
     "output_type": "stream",
     "text": [
      "[-1.99184441e+10 -4.52681068e+09 -1.53914914e+10]\n"
     ]
    }
   ],
   "source": [
    "probs = model.predict_joint_log_proba(x_prredict)\n",
    "print(probs[0])"
   ]
  },
  {
   "cell_type": "code",
   "execution_count": 147,
   "metadata": {},
   "outputs": [
    {
     "name": "stdout",
     "output_type": "stream",
     "text": [
      "Data: [1. 2. 1. ... 0. 0. 0.]\n",
      "Log Probabilitas Kelas 0: -16296886950.614532\n",
      "Log Probabilitas Kelas 1: -9959135316.07404\n",
      "Log Probabilitas Kelas 2: -6337608316.14892\n"
     ]
    }
   ],
   "source": [
    "for i, sample in enumerate(x_prredict):\n",
    "    print(f\"Data: {sample}\")\n",
    "    for j, class_prob in enumerate(probs[i]):\n",
    "        print(f\"Log Probabilitas Kelas {j}: {class_prob}\")"
   ]
  }
 ],
 "metadata": {
  "kernelspec": {
   "display_name": "basic_ml",
   "language": "python",
   "name": "python3"
  },
  "language_info": {
   "codemirror_mode": {
    "name": "ipython",
    "version": 3
   },
   "file_extension": ".py",
   "mimetype": "text/x-python",
   "name": "python",
   "nbconvert_exporter": "python",
   "pygments_lexer": "ipython3",
   "version": "3.11.4"
  },
  "orig_nbformat": 4
 },
 "nbformat": 4,
 "nbformat_minor": 2
}
